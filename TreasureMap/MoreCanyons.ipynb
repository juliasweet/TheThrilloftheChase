{
 "cells": [
  {
   "cell_type": "code",
   "execution_count": 2,
   "metadata": {},
   "outputs": [],
   "source": [
    "# Dependencies\n",
    "import pandas as pd\n",
    "import numpy as np\n",
    "import os"
   ]
  },
  {
   "cell_type": "code",
   "execution_count": 3,
   "metadata": {},
   "outputs": [],
   "source": [
    "canyons = pd.read_csv(\"canyons.csv\")"
   ]
  },
  {
   "cell_type": "code",
   "execution_count": 4,
   "metadata": {},
   "outputs": [
    {
     "data": {
      "text/html": [
       "<div>\n",
       "<style scoped>\n",
       "    .dataframe tbody tr th:only-of-type {\n",
       "        vertical-align: middle;\n",
       "    }\n",
       "\n",
       "    .dataframe tbody tr th {\n",
       "        vertical-align: top;\n",
       "    }\n",
       "\n",
       "    .dataframe thead th {\n",
       "        text-align: right;\n",
       "    }\n",
       "</style>\n",
       "<table border=\"1\" class=\"dataframe\">\n",
       "  <thead>\n",
       "    <tr style=\"text-align: right;\">\n",
       "      <th></th>\n",
       "      <th>Canyon</th>\n",
       "      <th>State</th>\n",
       "      <th>Latitude</th>\n",
       "      <th>Longitude</th>\n",
       "    </tr>\n",
       "  </thead>\n",
       "  <tbody>\n",
       "    <tr>\n",
       "      <th>0</th>\n",
       "      <td>Aguaje Canyon</td>\n",
       "      <td>Colorado</td>\n",
       "      <td>37.1320</td>\n",
       "      <td>-103.4423</td>\n",
       "    </tr>\n",
       "    <tr>\n",
       "      <th>1</th>\n",
       "      <td>Black Canyon of the Gunnison National Park</td>\n",
       "      <td>Colorado</td>\n",
       "      <td>38.3400</td>\n",
       "      <td>-107.4300</td>\n",
       "    </tr>\n",
       "    <tr>\n",
       "      <th>2</th>\n",
       "      <td>Box Canyon</td>\n",
       "      <td>Colorado</td>\n",
       "      <td>38.0106</td>\n",
       "      <td>-107.4044</td>\n",
       "    </tr>\n",
       "    <tr>\n",
       "      <th>3</th>\n",
       "      <td>Byers Canyon</td>\n",
       "      <td>Colorado</td>\n",
       "      <td>40.0410</td>\n",
       "      <td>-106.0759</td>\n",
       "    </tr>\n",
       "    <tr>\n",
       "      <th>4</th>\n",
       "      <td>Canyon of the Lodore</td>\n",
       "      <td>Colorado</td>\n",
       "      <td>40.4227</td>\n",
       "      <td>-108.5334</td>\n",
       "    </tr>\n",
       "  </tbody>\n",
       "</table>\n",
       "</div>"
      ],
      "text/plain": [
       "                                       Canyon     State  Latitude  Longitude\n",
       "0                               Aguaje Canyon  Colorado   37.1320  -103.4423\n",
       "1  Black Canyon of the Gunnison National Park  Colorado   38.3400  -107.4300\n",
       "2                                  Box Canyon  Colorado   38.0106  -107.4044\n",
       "3                                Byers Canyon  Colorado   40.0410  -106.0759\n",
       "4                        Canyon of the Lodore  Colorado   40.4227  -108.5334"
      ]
     },
     "execution_count": 4,
     "metadata": {},
     "output_type": "execute_result"
    }
   ],
   "source": [
    "canyons.head()"
   ]
  },
  {
   "cell_type": "code",
   "execution_count": 5,
   "metadata": {},
   "outputs": [],
   "source": [
    "canyons = canyons[['State', 'Latitude', 'Longitude', 'Canyon']]"
   ]
  },
  {
   "cell_type": "code",
   "execution_count": 6,
   "metadata": {},
   "outputs": [
    {
     "data": {
      "text/html": [
       "<div>\n",
       "<style scoped>\n",
       "    .dataframe tbody tr th:only-of-type {\n",
       "        vertical-align: middle;\n",
       "    }\n",
       "\n",
       "    .dataframe tbody tr th {\n",
       "        vertical-align: top;\n",
       "    }\n",
       "\n",
       "    .dataframe thead th {\n",
       "        text-align: right;\n",
       "    }\n",
       "</style>\n",
       "<table border=\"1\" class=\"dataframe\">\n",
       "  <thead>\n",
       "    <tr style=\"text-align: right;\">\n",
       "      <th></th>\n",
       "      <th>State</th>\n",
       "      <th>Latitude</th>\n",
       "      <th>Longitude</th>\n",
       "      <th>Canyon</th>\n",
       "    </tr>\n",
       "  </thead>\n",
       "  <tbody>\n",
       "    <tr>\n",
       "      <th>0</th>\n",
       "      <td>Colorado</td>\n",
       "      <td>37.1320</td>\n",
       "      <td>-103.4423</td>\n",
       "      <td>Aguaje Canyon</td>\n",
       "    </tr>\n",
       "    <tr>\n",
       "      <th>1</th>\n",
       "      <td>Colorado</td>\n",
       "      <td>38.3400</td>\n",
       "      <td>-107.4300</td>\n",
       "      <td>Black Canyon of the Gunnison National Park</td>\n",
       "    </tr>\n",
       "    <tr>\n",
       "      <th>2</th>\n",
       "      <td>Colorado</td>\n",
       "      <td>38.0106</td>\n",
       "      <td>-107.4044</td>\n",
       "      <td>Box Canyon</td>\n",
       "    </tr>\n",
       "    <tr>\n",
       "      <th>3</th>\n",
       "      <td>Colorado</td>\n",
       "      <td>40.0410</td>\n",
       "      <td>-106.0759</td>\n",
       "      <td>Byers Canyon</td>\n",
       "    </tr>\n",
       "    <tr>\n",
       "      <th>4</th>\n",
       "      <td>Colorado</td>\n",
       "      <td>40.4227</td>\n",
       "      <td>-108.5334</td>\n",
       "      <td>Canyon of the Lodore</td>\n",
       "    </tr>\n",
       "  </tbody>\n",
       "</table>\n",
       "</div>"
      ],
      "text/plain": [
       "      State  Latitude  Longitude                                      Canyon\n",
       "0  Colorado   37.1320  -103.4423                               Aguaje Canyon\n",
       "1  Colorado   38.3400  -107.4300  Black Canyon of the Gunnison National Park\n",
       "2  Colorado   38.0106  -107.4044                                  Box Canyon\n",
       "3  Colorado   40.0410  -106.0759                                Byers Canyon\n",
       "4  Colorado   40.4227  -108.5334                        Canyon of the Lodore"
      ]
     },
     "execution_count": 6,
     "metadata": {},
     "output_type": "execute_result"
    }
   ],
   "source": [
    "canyons.head()"
   ]
  },
  {
   "cell_type": "code",
   "execution_count": null,
   "metadata": {},
   "outputs": [],
   "source": []
  }
 ],
 "metadata": {
  "kernelspec": {
   "display_name": "Python 3",
   "language": "python",
   "name": "python3"
  },
  "language_info": {
   "codemirror_mode": {
    "name": "ipython",
    "version": 3
   },
   "file_extension": ".py",
   "mimetype": "text/x-python",
   "name": "python",
   "nbconvert_exporter": "python",
   "pygments_lexer": "ipython3",
   "version": "3.7.3"
  }
 },
 "nbformat": 4,
 "nbformat_minor": 2
}
